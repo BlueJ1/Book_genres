{
 "cells": [
  {
   "cell_type": "code",
   "execution_count": 1,
   "metadata": {
    "collapsed": true,
    "ExecuteTime": {
     "end_time": "2023-06-21T16:19:58.990018300Z",
     "start_time": "2023-06-21T16:19:58.536860300Z"
    }
   },
   "outputs": [],
   "source": [
    "import pandas as pd"
   ]
  },
  {
   "cell_type": "code",
   "execution_count": 2,
   "outputs": [],
   "source": [
    "df = pd.DataFrame([], columns=['a', 'b'])"
   ],
   "metadata": {
    "collapsed": false,
    "ExecuteTime": {
     "end_time": "2023-06-21T16:19:59.005643500Z",
     "start_time": "2023-06-21T16:19:58.990018300Z"
    }
   }
  },
  {
   "cell_type": "code",
   "execution_count": 3,
   "outputs": [
    {
     "data": {
      "text/plain": "Empty DataFrame\nColumns: [a, b]\nIndex: []",
      "text/html": "<div>\n<style scoped>\n    .dataframe tbody tr th:only-of-type {\n        vertical-align: middle;\n    }\n\n    .dataframe tbody tr th {\n        vertical-align: top;\n    }\n\n    .dataframe thead th {\n        text-align: right;\n    }\n</style>\n<table border=\"1\" class=\"dataframe\">\n  <thead>\n    <tr style=\"text-align: right;\">\n      <th></th>\n      <th>a</th>\n      <th>b</th>\n    </tr>\n  </thead>\n  <tbody>\n  </tbody>\n</table>\n</div>"
     },
     "execution_count": 3,
     "metadata": {},
     "output_type": "execute_result"
    }
   ],
   "source": [
    "df"
   ],
   "metadata": {
    "collapsed": false,
    "ExecuteTime": {
     "end_time": "2023-06-21T16:19:59.036893700Z",
     "start_time": "2023-06-21T16:19:59.005643500Z"
    }
   }
  },
  {
   "cell_type": "code",
   "execution_count": 4,
   "outputs": [],
   "source": [
    "df.loc[0] = [1, 2]\n",
    "df.loc[1] = [3, 4]"
   ],
   "metadata": {
    "collapsed": false,
    "ExecuteTime": {
     "end_time": "2023-06-21T16:19:59.057145Z",
     "start_time": "2023-06-21T16:19:59.036893700Z"
    }
   }
  },
  {
   "cell_type": "code",
   "execution_count": 8,
   "outputs": [
    {
     "name": "stdout",
     "output_type": "stream",
     "text": [
      "<class 'pandas.core.frame.Pandas'>\n",
      "Pandas(Index=0, a=1, b=2)\n",
      "<class 'pandas.core.frame.Pandas'>\n",
      "Pandas(Index=1, a=3, b=4)\n"
     ]
    }
   ],
   "source": [
    "for x in df.itertuples():\n",
    "    print(type(x))\n",
    "    print(x)"
   ],
   "metadata": {
    "collapsed": false,
    "ExecuteTime": {
     "end_time": "2023-06-21T16:20:51.444281600Z",
     "start_time": "2023-06-21T16:20:51.437751Z"
    }
   }
  },
  {
   "cell_type": "code",
   "execution_count": 2,
   "outputs": [
    {
     "name": "stdout",
     "output_type": "stream",
     "text": [
      "(array(['a', 'b', 'c'], dtype='<U1'), array([0, 0, 1, 0, 2], dtype=int64))\n"
     ]
    }
   ],
   "source": [
    "import numpy as np\n",
    "\n",
    "x = [\"a\", \"a\", \"b\", \"a\", \"c\"]\n",
    "print(np.unique(x, return_inverse=True))"
   ],
   "metadata": {
    "collapsed": false,
    "ExecuteTime": {
     "end_time": "2023-06-22T11:58:16.555896600Z",
     "start_time": "2023-06-22T11:58:16.512956600Z"
    }
   }
  },
  {
   "cell_type": "code",
   "execution_count": 10,
   "outputs": [],
   "source": [
    "import pickle\n",
    "import numpy as np\n",
    "from hyperopt import Trials\n",
    "import matplotlib.pyplot as plt\n",
    "\n",
    "with open(\"bayes_trials.bin\", \"rb\") as f:\n",
    "    trials = pickle.load(f)"
   ],
   "metadata": {
    "collapsed": false,
    "ExecuteTime": {
     "end_time": "2023-06-24T10:08:33.602810Z",
     "start_time": "2023-06-24T10:08:33.594570Z"
    }
   }
  },
  {
   "cell_type": "code",
   "execution_count": 11,
   "outputs": [],
   "source": [
    "losses = - np.array(trials.losses())"
   ],
   "metadata": {
    "collapsed": false,
    "ExecuteTime": {
     "end_time": "2023-06-24T10:08:35.643031Z",
     "start_time": "2023-06-24T10:08:35.640906Z"
    }
   }
  },
  {
   "cell_type": "code",
   "execution_count": 15,
   "outputs": [
    {
     "data": {
      "text/plain": "<Figure size 640x480 with 1 Axes>",
      "image/png": "[encoded data removed]"
     },
     "metadata": {},
     "output_type": "display_data"
    }
   ],
   "source": [
    "plt.xlim(0, 1)\n",
    "plt.hist(losses // 0.1 * 0.1, bins=[0.1 * i for i in range(11)])\n",
    "plt.savefig(\"hist_100.png\")"
   ],
   "metadata": {
    "collapsed": false,
    "ExecuteTime": {
     "end_time": "2023-06-24T10:12:45.651651Z",
     "start_time": "2023-06-24T10:12:45.571191Z"
    }
   }
  },
  {
   "cell_type": "code",
   "execution_count": 5,
   "outputs": [
    {
     "data": {
      "text/plain": "array([0. , 0.5, 0. , 0. , 0.5, 0.7, 0.6, 0. , 0.6, 0.5, 0.2, 0.6, 0.5,\n       0. , 0.6, 0. , 0.6, 0.6, 0.6, 0. , 0.6, 0.6, 0.6, 0.6, 0.6, 0.6,\n       0.7, 0.3, 0.7, 0.7, 0.5, 0.7, 0.1, 0.6, 0.6, 0.6, 0.6, 0.6, 0. ,\n       0.6, 0.5, 0.2, 0.6, 0. , 0.3, 0.1, 0.6, 0.5, 0.6, 0.3, 0.2, 0.6,\n       0.6, 0.6, 0.6, 0.2, 0.3, 0.6, 0.7, 0.6, 0.7, 0.7, 0.2, 0.5, 0.6,\n       0.7, 0.6, 0.7, 0.6, 0.7, 0.6, 0.6, 0.6, 0.6, 0. , 0.7, 0.7, 0.7,\n       0.6, 0.6, 0.6, 0.4, 0.6, 0.7, 0.6, 0.7, 0.6, 0.4, 0.6, 0.7, 0. ,\n       0.2, 0. , 0.7, 0.6, 0.6, 0.6, 0.3, 0.6, 0.6])"
     },
     "execution_count": 5,
     "metadata": {},
     "output_type": "execute_result"
    }
   ],
   "source": [
    "losses // 0.1 * 0.1"
   ],
   "metadata": {
    "collapsed": false,
    "ExecuteTime": {
     "end_time": "2023-06-24T10:08:13.620265Z",
     "start_time": "2023-06-24T10:08:13.602701Z"
    }
   }
  },
  {
   "cell_type": "code",
   "execution_count": 12,
   "outputs": [
    {
     "data": {
      "text/plain": "array([0.08003316, 0.57771765, 0.07993817, 0.07984544, 0.57361267,\n       0.70517991, 0.61891266, 0.07981361, 0.68248312, 0.5862991 ,\n       0.24652262, 0.66698674, 0.53539127, 0.07985919, 0.66473225,\n       0.08011386, 0.63859074, 0.65104792, 0.6663253 , 0.08037947,\n       0.66770241, 0.64247801, 0.62474053, 0.61129302, 0.64153145,\n       0.64617524, 0.70632618, 0.34473319, 0.7019712 , 0.70499184,\n       0.56921032, 0.70267786, 0.18440664, 0.64618429, 0.69794678,\n       0.66734427, 0.63992459, 0.645705  , 0.07993016, 0.60757906,\n       0.59139183, 0.26483381, 0.62396951, 0.07992545, 0.30001566,\n       0.18824385, 0.66018956, 0.59086785, 0.66859593, 0.38519775,\n       0.21263746, 0.69507481, 0.66921326, 0.60840178, 0.62447251,\n       0.21271563, 0.37775064, 0.67713003, 0.70755053, 0.66396862,\n       0.70711266, 0.70509368, 0.22853642, 0.59990153, 0.6027036 ,\n       0.70437485, 0.69692603, 0.70696085, 0.64619379, 0.70037961,\n       0.64078201, 0.69229244, 0.68790446, 0.60428574, 0.08517591,\n       0.70957364, 0.70729121, 0.71083221, 0.65461859, 0.63159016,\n       0.61966563, 0.42417402, 0.66300107, 0.70315727, 0.65466271,\n       0.70418437, 0.61068175, 0.41722484, 0.67557395, 0.70553514,\n       0.07999739, 0.21276489, 0.07989563, 0.71801732, 0.67677081,\n       0.68268235, 0.67631721, 0.32467873, 0.61973765, 0.67694911])"
     },
     "execution_count": 12,
     "metadata": {},
     "output_type": "execute_result"
    }
   ],
   "source": [
    "losses"
   ],
   "metadata": {
    "collapsed": false,
    "ExecuteTime": {
     "end_time": "2023-06-24T10:08:39.343280Z",
     "start_time": "2023-06-24T10:08:39.340107Z"
    }
   }
  },
  {
   "cell_type": "code",
   "execution_count": null,
   "outputs": [],
   "source": [],
   "metadata": {
    "collapsed": false
   }
  }
 ],
 "metadata": {
  "kernelspec": {
   "display_name": "Python 3",
   "language": "python",
   "name": "python3"
  },
  "language_info": {
   "codemirror_mode": {
    "name": "ipython",
    "version": 2
   },
   "file_extension": ".py",
   "mimetype": "text/x-python",
   "name": "python",
   "nbconvert_exporter": "python",
   "pygments_lexer": "ipython2",
   "version": "2.7.6"
  }
 },
 "nbformat": 4,
 "nbformat_minor": 0
}
