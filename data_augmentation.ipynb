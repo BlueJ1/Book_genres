{
 "cells": [
  {
   "cell_type": "code",
   "execution_count": 1,
   "outputs": [],
   "source": [
    "import pandas as pd\n",
    "import nlpaug.augmenter.word as nlpaw\n",
    "from tqdm import tqdm\n",
    "import numpy as np\n",
    "from time import time\n",
    "import torch"
   ],
   "metadata": {
    "collapsed": false,
    "ExecuteTime": {
     "end_time": "2023-05-23T10:58:52.222405Z",
     "start_time": "2023-05-23T10:58:50.473119Z"
    }
   }
  },
  {
   "cell_type": "code",
   "execution_count": 2,
   "outputs": [
    {
     "name": "stdout",
     "output_type": "stream",
     "text": [
      "mps\n"
     ]
    }
   ],
   "source": [
    "mps_device = torch.device(\"mps\")\n",
    "print(str(mps_device))\n",
    "# Create a Tensor directly on the mps device\n",
    "x = torch.ones(5, device=mps_device)\n",
    "# Or\n",
    "x = torch.ones(5, device=\"mps\")\n",
    "\n",
    "# Any operation happens on the GPU\n",
    "y = x * 2"
   ],
   "metadata": {
    "collapsed": false,
    "ExecuteTime": {
     "end_time": "2023-05-23T10:58:52.288097Z",
     "start_time": "2023-05-23T10:58:52.223767Z"
    }
   }
  },
  {
   "cell_type": "code",
   "execution_count": 3,
   "outputs": [],
   "source": [
    "df = pd.read_csv(\"data.csv\")[[\"summary\", \"genre\"]]\n",
    "grouped_df = df.replace([\"romance\"], \"other\")"
   ],
   "metadata": {
    "collapsed": false,
    "ExecuteTime": {
     "end_time": "2023-05-23T10:58:52.377014Z",
     "start_time": "2023-05-23T10:58:52.289023Z"
    }
   }
  },
  {
   "cell_type": "code",
   "execution_count": 4,
   "outputs": [],
   "source": [
    "def augment_sentence(sentence, aug, num_threads):\n",
    "    \"\"\"\"\"\"\"\"\"\n",
    "    Constructs a new sentence via text augmentation.\n",
    "\n",
    "    Input:\n",
    "        - sentence:     A string of text\n",
    "        - aug:          An augmentation object defined by the nlpaug library\n",
    "        - num_threads:  Integer controlling the number of threads to use if\n",
    "                        augmenting text via CPU\n",
    "    Output:\n",
    "        - A string of text that been augmented\n",
    "    \"\"\"\"\"\"\"\"\"\n",
    "    return aug.augment(sentence, num_thread=num_threads)"
   ],
   "metadata": {
    "collapsed": false,
    "ExecuteTime": {
     "end_time": "2023-05-23T10:58:53.111591Z",
     "start_time": "2023-05-23T10:58:53.109546Z"
    }
   }
  },
  {
   "cell_type": "code",
   "execution_count": 5,
   "outputs": [],
   "source": [
    "def augment_text(df, aug, num_threads, num_times, genres_to_augment: list):\n",
    "    \"\"\"\"\"\"\"\"\"\n",
    "    Takes a pandas DataFrame and augments its text data.\n",
    "\n",
    "    Input:\n",
    "        - df:            A pandas DataFrame containing the columns:\n",
    "                                - 'summary' containing strings of text to augment.\n",
    "                                - 'genre' target variable containing genres.\n",
    "        - aug:           Augmentation object defined by the nlpaug library.\n",
    "        - num_threads:   Integer controlling number of threads to use if augmenting\n",
    "                         text via CPU\n",
    "        - num_times:     Integer representing the number of times to augment text.\n",
    "        - genres_to_augment: names of the genres that should be augmented\n",
    "    Output:\n",
    "        - df:            Copy of the same pandas DataFrame with augmented data\n",
    "                         appended to it and with rows randomly shuffled.\n",
    "    \"\"\"\"\"\"\"\"\"\n",
    "\n",
    "    # Get rows of data to augment\n",
    "    for genre in genres_to_augment:\n",
    "        to_augment = df[df['genre']==genre]\n",
    "        to_augment_x = to_augment['summary'].head(2)\n",
    "        print(to_augment_x.shape)\n",
    "        to_augment_y = genre\n",
    "\n",
    "        # Build up dictionary containing augmented data\n",
    "        aug_dict = {'summary':[], 'genre': to_augment_y}\n",
    "        for _ in tqdm(range(num_times)):\n",
    "            aug_x = [augment_sentence(x, aug, num_threads) for x in to_augment_x]\n",
    "            aug_dict['summary'].extend(aug_x)\n",
    "\n",
    "        # Build DataFrame containing augmented data\n",
    "        aug_df = pd.DataFrame.from_dict(aug_dict)\n",
    "\n",
    "        df = pd.concat([df, aug_df])\n",
    "\n",
    "    return df"
   ],
   "metadata": {
    "collapsed": false,
    "ExecuteTime": {
     "end_time": "2023-05-23T10:58:53.487539Z",
     "start_time": "2023-05-23T10:58:53.484471Z"
    }
   }
  },
  {
   "cell_type": "code",
   "execution_count": 6,
   "outputs": [
    {
     "name": "stdout",
     "output_type": "stream",
     "text": [
      "4657\n",
      "(2,)\n"
     ]
    },
    {
     "name": "stderr",
     "output_type": "stream",
     "text": [
      "  0%|          | 0/1 [00:00<?, ?it/s]\n"
     ]
    },
    {
     "ename": "TypeError",
     "evalue": "can't convert mps:0 device type tensor to numpy. Use Tensor.cpu() to copy the tensor to host memory first.",
     "output_type": "error",
     "traceback": [
      "\u001B[0;31m---------------------------------------------------------------------------\u001B[0m",
      "\u001B[0;31mTypeError\u001B[0m                                 Traceback (most recent call last)",
      "Cell \u001B[0;32mIn[6], line 6\u001B[0m\n\u001B[1;32m      4\u001B[0m t \u001B[38;5;241m=\u001B[39m time()\n\u001B[1;32m      5\u001B[0m \u001B[38;5;28mprint\u001B[39m(grouped_df\u001B[38;5;241m.\u001B[39mshape[\u001B[38;5;241m0\u001B[39m])\n\u001B[0;32m----> 6\u001B[0m balanced_df \u001B[38;5;241m=\u001B[39m \u001B[43maugment_text\u001B[49m\u001B[43m(\u001B[49m\u001B[43mgrouped_df\u001B[49m\u001B[43m,\u001B[49m\u001B[43m \u001B[49m\u001B[43maug10p\u001B[49m\u001B[43m,\u001B[49m\u001B[43m \u001B[49m\u001B[43mnum_threads\u001B[49m\u001B[38;5;241;43m=\u001B[39;49m\u001B[38;5;241;43m8\u001B[39;49m\u001B[43m,\u001B[49m\u001B[43m \u001B[49m\u001B[43mnum_times\u001B[49m\u001B[38;5;241;43m=\u001B[39;49m\u001B[38;5;241;43m1\u001B[39;49m\u001B[43m,\u001B[49m\u001B[43m \u001B[49m\u001B[43mgenres_to_augment\u001B[49m\u001B[38;5;241;43m=\u001B[39;49m\u001B[43m[\u001B[49m\u001B[38;5;124;43m\"\u001B[39;49m\u001B[38;5;124;43mother\u001B[39;49m\u001B[38;5;124;43m\"\u001B[39;49m\u001B[43m]\u001B[49m\u001B[43m)\u001B[49m\n\u001B[1;32m      7\u001B[0m \u001B[38;5;28mprint\u001B[39m(balanced_df\u001B[38;5;241m.\u001B[39mshape[\u001B[38;5;241m0\u001B[39m])\n\u001B[1;32m      8\u001B[0m \u001B[38;5;28mprint\u001B[39m(time() \u001B[38;5;241m-\u001B[39m t)\n",
      "Cell \u001B[0;32mIn[5], line 29\u001B[0m, in \u001B[0;36maugment_text\u001B[0;34m(df, aug, num_threads, num_times, genres_to_augment)\u001B[0m\n\u001B[1;32m     27\u001B[0m aug_dict \u001B[38;5;241m=\u001B[39m {\u001B[38;5;124m'\u001B[39m\u001B[38;5;124msummary\u001B[39m\u001B[38;5;124m'\u001B[39m:[], \u001B[38;5;124m'\u001B[39m\u001B[38;5;124mgenre\u001B[39m\u001B[38;5;124m'\u001B[39m: to_augment_y}\n\u001B[1;32m     28\u001B[0m \u001B[38;5;28;01mfor\u001B[39;00m _ \u001B[38;5;129;01min\u001B[39;00m tqdm(\u001B[38;5;28mrange\u001B[39m(num_times)):\n\u001B[0;32m---> 29\u001B[0m     aug_x \u001B[38;5;241m=\u001B[39m [augment_sentence(x, aug, num_threads) \u001B[38;5;28;01mfor\u001B[39;00m x \u001B[38;5;129;01min\u001B[39;00m to_augment_x]\n\u001B[1;32m     30\u001B[0m     aug_dict[\u001B[38;5;124m'\u001B[39m\u001B[38;5;124msummary\u001B[39m\u001B[38;5;124m'\u001B[39m]\u001B[38;5;241m.\u001B[39mextend(aug_x)\n\u001B[1;32m     32\u001B[0m \u001B[38;5;66;03m# Build DataFrame containing augmented data\u001B[39;00m\n",
      "Cell \u001B[0;32mIn[5], line 29\u001B[0m, in \u001B[0;36m<listcomp>\u001B[0;34m(.0)\u001B[0m\n\u001B[1;32m     27\u001B[0m aug_dict \u001B[38;5;241m=\u001B[39m {\u001B[38;5;124m'\u001B[39m\u001B[38;5;124msummary\u001B[39m\u001B[38;5;124m'\u001B[39m:[], \u001B[38;5;124m'\u001B[39m\u001B[38;5;124mgenre\u001B[39m\u001B[38;5;124m'\u001B[39m: to_augment_y}\n\u001B[1;32m     28\u001B[0m \u001B[38;5;28;01mfor\u001B[39;00m _ \u001B[38;5;129;01min\u001B[39;00m tqdm(\u001B[38;5;28mrange\u001B[39m(num_times)):\n\u001B[0;32m---> 29\u001B[0m     aug_x \u001B[38;5;241m=\u001B[39m [\u001B[43maugment_sentence\u001B[49m\u001B[43m(\u001B[49m\u001B[43mx\u001B[49m\u001B[43m,\u001B[49m\u001B[43m \u001B[49m\u001B[43maug\u001B[49m\u001B[43m,\u001B[49m\u001B[43m \u001B[49m\u001B[43mnum_threads\u001B[49m\u001B[43m)\u001B[49m \u001B[38;5;28;01mfor\u001B[39;00m x \u001B[38;5;129;01min\u001B[39;00m to_augment_x]\n\u001B[1;32m     30\u001B[0m     aug_dict[\u001B[38;5;124m'\u001B[39m\u001B[38;5;124msummary\u001B[39m\u001B[38;5;124m'\u001B[39m]\u001B[38;5;241m.\u001B[39mextend(aug_x)\n\u001B[1;32m     32\u001B[0m \u001B[38;5;66;03m# Build DataFrame containing augmented data\u001B[39;00m\n",
      "Cell \u001B[0;32mIn[4], line 13\u001B[0m, in \u001B[0;36maugment_sentence\u001B[0;34m(sentence, aug, num_threads)\u001B[0m\n\u001B[1;32m      1\u001B[0m \u001B[38;5;28;01mdef\u001B[39;00m \u001B[38;5;21maugment_sentence\u001B[39m(sentence, aug, num_threads):\n\u001B[1;32m      2\u001B[0m     \u001B[38;5;124;03m\"\"\"\"\"\"\u001B[39;00m\u001B[38;5;124m\"\"\"\u001B[39m\n\u001B[1;32m      3\u001B[0m \u001B[38;5;124m    Constructs a new sentence via text augmentation.\u001B[39m\n\u001B[1;32m      4\u001B[0m \n\u001B[0;32m   (...)\u001B[0m\n\u001B[1;32m     11\u001B[0m \u001B[38;5;124m        - A string of text that been augmented\u001B[39m\n\u001B[1;32m     12\u001B[0m \u001B[38;5;124m    \u001B[39m\u001B[38;5;124m\"\"\"\u001B[39m\u001B[38;5;124m\"\"\"\u001B[39m\u001B[38;5;124m\"\"\"\u001B[39m\n\u001B[0;32m---> 13\u001B[0m     \u001B[38;5;28;01mreturn\u001B[39;00m \u001B[43maug\u001B[49m\u001B[38;5;241;43m.\u001B[39;49m\u001B[43maugment\u001B[49m\u001B[43m(\u001B[49m\u001B[43msentence\u001B[49m\u001B[43m,\u001B[49m\u001B[43m \u001B[49m\u001B[43mnum_thread\u001B[49m\u001B[38;5;241;43m=\u001B[39;49m\u001B[43mnum_threads\u001B[49m\u001B[43m)\u001B[49m\n",
      "File \u001B[0;32m~/anaconda3/envs/ml/lib/python3.10/site-packages/nlpaug/base_augmenter.py:98\u001B[0m, in \u001B[0;36mAugmenter.augment\u001B[0;34m(self, data, n, num_thread)\u001B[0m\n\u001B[1;32m     96\u001B[0m \u001B[38;5;28;01melif\u001B[39;00m \u001B[38;5;28mself\u001B[39m\u001B[38;5;241m.\u001B[39m\u001B[38;5;18m__class__\u001B[39m\u001B[38;5;241m.\u001B[39m\u001B[38;5;18m__name__\u001B[39m \u001B[38;5;129;01min\u001B[39;00m [\u001B[38;5;124m'\u001B[39m\u001B[38;5;124mAbstSummAug\u001B[39m\u001B[38;5;124m'\u001B[39m, \u001B[38;5;124m'\u001B[39m\u001B[38;5;124mBackTranslationAug\u001B[39m\u001B[38;5;124m'\u001B[39m, \u001B[38;5;124m'\u001B[39m\u001B[38;5;124mContextualWordEmbsAug\u001B[39m\u001B[38;5;124m'\u001B[39m, \u001B[38;5;124m'\u001B[39m\u001B[38;5;124mContextualWordEmbsForSentenceAug\u001B[39m\u001B[38;5;124m'\u001B[39m]:\n\u001B[1;32m     97\u001B[0m     \u001B[38;5;28;01mfor\u001B[39;00m _ \u001B[38;5;129;01min\u001B[39;00m \u001B[38;5;28mrange\u001B[39m(aug_num):\n\u001B[0;32m---> 98\u001B[0m         result \u001B[38;5;241m=\u001B[39m \u001B[43maction_fx\u001B[49m\u001B[43m(\u001B[49m\u001B[43mclean_data\u001B[49m\u001B[43m)\u001B[49m\n\u001B[1;32m     99\u001B[0m         \u001B[38;5;28;01mif\u001B[39;00m \u001B[38;5;28misinstance\u001B[39m(result, \u001B[38;5;28mlist\u001B[39m):\n\u001B[1;32m    100\u001B[0m             augmented_results\u001B[38;5;241m.\u001B[39mextend(result)\n",
      "File \u001B[0;32m~/anaconda3/envs/ml/lib/python3.10/site-packages/nlpaug/augmenter/word/context_word_embs.py:471\u001B[0m, in \u001B[0;36mContextualWordEmbsAug.substitute\u001B[0;34m(self, data)\u001B[0m\n\u001B[1;32m    468\u001B[0m \u001B[38;5;28;01mif\u001B[39;00m \u001B[38;5;129;01mnot\u001B[39;00m \u001B[38;5;28mlen\u001B[39m(masked_texts):\n\u001B[1;32m    469\u001B[0m     \u001B[38;5;28;01mcontinue\u001B[39;00m\n\u001B[0;32m--> 471\u001B[0m outputs \u001B[38;5;241m=\u001B[39m \u001B[38;5;28;43mself\u001B[39;49m\u001B[38;5;241;43m.\u001B[39;49m\u001B[43mmodel\u001B[49m\u001B[38;5;241;43m.\u001B[39;49m\u001B[43mpredict\u001B[49m\u001B[43m(\u001B[49m\u001B[43mmasked_texts\u001B[49m\u001B[43m,\u001B[49m\u001B[43m \u001B[49m\u001B[43mtarget_words\u001B[49m\u001B[38;5;241;43m=\u001B[39;49m\u001B[43moriginal_tokens\u001B[49m\u001B[43m,\u001B[49m\u001B[43m \u001B[49m\u001B[43mn\u001B[49m\u001B[38;5;241;43m=\u001B[39;49m\u001B[38;5;241;43m2\u001B[39;49m\u001B[43m)\u001B[49m\n\u001B[1;32m    473\u001B[0m \u001B[38;5;66;03m# Update doc\u001B[39;00m\n\u001B[1;32m    474\u001B[0m \u001B[38;5;28;01mfor\u001B[39;00m original_token, aug_input_pos, output, masked_text \u001B[38;5;129;01min\u001B[39;00m \u001B[38;5;28mzip\u001B[39m(original_tokens, aug_input_poses, outputs, masked_texts):\n",
      "File \u001B[0;32m~/anaconda3/envs/ml/lib/python3.10/site-packages/nlpaug/model/lang_models/bert.py:113\u001B[0m, in \u001B[0;36mBert.predict\u001B[0;34m(self, texts, target_words, n)\u001B[0m\n\u001B[1;32m    111\u001B[0m seed \u001B[38;5;241m=\u001B[39m {\u001B[38;5;124m'\u001B[39m\u001B[38;5;124mtemperature\u001B[39m\u001B[38;5;124m'\u001B[39m: \u001B[38;5;28mself\u001B[39m\u001B[38;5;241m.\u001B[39mtemperature, \u001B[38;5;124m'\u001B[39m\u001B[38;5;124mtop_k\u001B[39m\u001B[38;5;124m'\u001B[39m: \u001B[38;5;28mself\u001B[39m\u001B[38;5;241m.\u001B[39mtop_k, \u001B[38;5;124m'\u001B[39m\u001B[38;5;124mtop_p\u001B[39m\u001B[38;5;124m'\u001B[39m: \u001B[38;5;28mself\u001B[39m\u001B[38;5;241m.\u001B[39mtop_p}\n\u001B[1;32m    112\u001B[0m target_token_logits \u001B[38;5;241m=\u001B[39m \u001B[38;5;28mself\u001B[39m\u001B[38;5;241m.\u001B[39mcontrol_randomness(target_token_logits, seed)\n\u001B[0;32m--> 113\u001B[0m target_token_logits, target_token_idxes \u001B[38;5;241m=\u001B[39m \u001B[38;5;28;43mself\u001B[39;49m\u001B[38;5;241;43m.\u001B[39;49m\u001B[43mfiltering\u001B[49m\u001B[43m(\u001B[49m\u001B[43mtarget_token_logits\u001B[49m\u001B[43m,\u001B[49m\u001B[43m \u001B[49m\u001B[43mseed\u001B[49m\u001B[43m)\u001B[49m\n\u001B[1;32m    114\u001B[0m \u001B[38;5;28;01mif\u001B[39;00m \u001B[38;5;28mlen\u001B[39m(target_token_idxes) \u001B[38;5;241m!=\u001B[39m \u001B[38;5;241m0\u001B[39m:\n\u001B[1;32m    115\u001B[0m     new_tokens \u001B[38;5;241m=\u001B[39m \u001B[38;5;28mself\u001B[39m\u001B[38;5;241m.\u001B[39mpick(target_token_logits, target_token_idxes, target_word\u001B[38;5;241m=\u001B[39mtarget_token, n\u001B[38;5;241m=\u001B[39m\u001B[38;5;241m10\u001B[39m)\n",
      "File \u001B[0;32m~/anaconda3/envs/ml/lib/python3.10/site-packages/nlpaug/model/lang_models/language_models.py:146\u001B[0m, in \u001B[0;36mLanguageModels.filtering\u001B[0;34m(self, logits, seed)\u001B[0m\n\u001B[1;32m    144\u001B[0m     \u001B[38;5;28;01mif\u001B[39;00m \u001B[38;5;124m'\u001B[39m\u001B[38;5;124mcuda\u001B[39m\u001B[38;5;124m'\u001B[39m \u001B[38;5;129;01min\u001B[39;00m \u001B[38;5;28mself\u001B[39m\u001B[38;5;241m.\u001B[39mdevice:\n\u001B[1;32m    145\u001B[0m         idxes \u001B[38;5;241m=\u001B[39m idxes\u001B[38;5;241m.\u001B[39mcpu()\n\u001B[0;32m--> 146\u001B[0m     idxes \u001B[38;5;241m=\u001B[39m \u001B[43midxes\u001B[49m\u001B[38;5;241;43m.\u001B[39;49m\u001B[43mdetach\u001B[49m\u001B[43m(\u001B[49m\u001B[43m)\u001B[49m\u001B[38;5;241;43m.\u001B[39;49m\u001B[43mnumpy\u001B[49m\u001B[43m(\u001B[49m\u001B[43m)\u001B[49m\u001B[38;5;241m.\u001B[39mtolist()\n\u001B[1;32m    147\u001B[0m \u001B[38;5;28;01melse\u001B[39;00m:\n\u001B[1;32m    148\u001B[0m     idxes \u001B[38;5;241m=\u001B[39m np\u001B[38;5;241m.\u001B[39marange(\u001B[38;5;28mlen\u001B[39m(logits))\u001B[38;5;241m.\u001B[39mtolist()\n",
      "\u001B[0;31mTypeError\u001B[0m: can't convert mps:0 device type tensor to numpy. Use Tensor.cpu() to copy the tensor to host memory first."
     ]
    }
   ],
   "source": [
    "# Define nlpaug augmentation object\n",
    "aug10p = nlpaw.ContextualWordEmbsAug(model_path='distilbert-base-uncased', aug_min=1, aug_p=0.1, action=\"substitute\")\n",
    "\n",
    "t = time()\n",
    "print(grouped_df.shape[0])\n",
    "balanced_df = augment_text(grouped_df, aug10p, num_threads=8, num_times=1, genres_to_augment=[\"other\"])\n",
    "print(balanced_df.shape[0])\n",
    "print(time() - t)"
   ],
   "metadata": {
    "collapsed": false,
    "ExecuteTime": {
     "end_time": "2023-05-23T10:58:55.538199Z",
     "start_time": "2023-05-23T10:58:54.063774Z"
    }
   }
  },
  {
   "cell_type": "code",
   "execution_count": 11,
   "outputs": [
    {
     "data": {
      "text/plain": "True"
     },
     "execution_count": 11,
     "metadata": {},
     "output_type": "execute_result"
    }
   ],
   "source": [
    "\"a\" in \"ab\""
   ],
   "metadata": {
    "collapsed": false,
    "ExecuteTime": {
     "end_time": "2023-05-23T10:47:22.484751Z",
     "start_time": "2023-05-23T10:47:22.480875Z"
    }
   }
  },
  {
   "cell_type": "code",
   "execution_count": null,
   "outputs": [],
   "source": [],
   "metadata": {
    "collapsed": false
   }
  }
 ],
 "metadata": {
  "kernelspec": {
   "display_name": "Python 3",
   "language": "python",
   "name": "python3"
  },
  "language_info": {
   "codemirror_mode": {
    "name": "ipython",
    "version": 2
   },
   "file_extension": ".py",
   "mimetype": "text/x-python",
   "name": "python",
   "nbconvert_exporter": "python",
   "pygments_lexer": "ipython2",
   "version": "2.7.6"
  }
 },
 "nbformat": 4,
 "nbformat_minor": 0
}
